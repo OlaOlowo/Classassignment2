{
 "cells": [
  {
   "cell_type": "markdown",
   "metadata": {},
   "source": [
    "### How to run python code using\n",
    "\n",
    "- Jupyter Notebook\n",
    "- Command Line\n",
    "- Text Editors like Pycharm, VSCode\n",
    "- from any Cloud Service"
   ]
  },
  {
   "cell_type": "code",
   "execution_count": 1,
   "metadata": {},
   "outputs": [],
   "source": [
    "21//7"
   ]
  },
  {
   "cell_type": "code",
   "execution_count": 25,
   "metadata": {},
   "outputs": [],
   "source": [
    " name = '''my-name-is-bukola-and-i-am-from-nigeria/-but-my-dad/is-from-is-from\"ekiti\".'''"
   ]
  },
  {
   "cell_type": "code",
   "execution_count": 44,
   "metadata": {},
   "outputs": [
    {
     "data": {
      "text/plain": [
       "'My Name Is Bukola And I Am From Nigeria But My Dad Is From Is From Ekiti'"
      ]
     },
     "execution_count": 44,
     "metadata": {},
     "output_type": "execute_result"
    }
   ],
   "source": [
    "' '.join(' '.join(' '.join(' '.join(' '.join(name.split('-')).split('/')).split('\"')).split()).split(' .')).rstrip().title()"
   ]
  },
  {
   "cell_type": "code",
   "execution_count": null,
   "metadata": {},
   "outputs": [],
   "source": []
  },
  {
   "cell_type": "code",
   "execution_count": 47,
   "metadata": {},
   "outputs": [],
   "source": [
    "Dirty_Data = '''my-name-is-bukola-and-i-am-from-nigeria/-but-my-dad/is-from-is-from\"ekiti\".'''"
   ]
  },
  {
   "cell_type": "code",
   "execution_count": 62,
   "metadata": {},
   "outputs": [
    {
     "data": {
      "text/plain": [
       "'My Name Is Bukola And I Am From Nigeria  But My Dad Is From Is From Ekiti'"
      ]
     },
     "execution_count": 62,
     "metadata": {},
     "output_type": "execute_result"
    }
   ],
   "source": [
    "' '.join(' '.join(' '.join(' '.join(Dirty_Data.split('-')).split('/')).split('\"')).split(' .')).rstrip().capitalize().title()"
   ]
  },
  {
   "cell_type": "code",
   "execution_count": 64,
   "metadata": {},
   "outputs": [
    {
     "data": {
      "text/plain": [
       "'C:\\\\Users\\\\oladi\\\\BlueLambdaClass\\\\Module 1\\\\Week 1'"
      ]
     },
     "execution_count": 64,
     "metadata": {},
     "output_type": "execute_result"
    }
   ],
   "source": [
    "pwd"
   ]
  },
  {
   "cell_type": "code",
   "execution_count": null,
   "metadata": {},
   "outputs": [],
   "source": []
  },
  {
   "cell_type": "code",
   "execution_count": 11,
   "metadata": {},
   "outputs": [
    {
     "data": {
      "text/plain": [
       "str"
      ]
     },
     "execution_count": 11,
     "metadata": {},
     "output_type": "execute_result"
    }
   ],
   "source": [
    "type(name)"
   ]
  },
  {
   "cell_type": "code",
   "execution_count": 12,
   "metadata": {},
   "outputs": [],
   "source": [
    "name = ' '.join(name.split('-')).capitalize().replace(\"/\",\" \").replace(\"\\\"\",\" \").replace(\"  \",\" \").replace(\"is from is from\",\"is from\")\n"
   ]
  },
  {
   "cell_type": "code",
   "execution_count": 13,
   "metadata": {},
   "outputs": [
    {
     "data": {
      "text/plain": [
       "'My name is bukola and i am from nigeria but my dad is from ekiti .'"
      ]
     },
     "execution_count": 13,
     "metadata": {},
     "output_type": "execute_result"
    }
   ],
   "source": [
    "name"
   ]
  },
  {
   "cell_type": "code",
   "execution_count": 23,
   "metadata": {},
   "outputs": [
    {
     "data": {
      "text/plain": [
       "'my name is bukola and i am from nigeria but my dadis from is from ekiti .'"
      ]
     },
     "execution_count": 23,
     "metadata": {},
     "output_type": "execute_result"
    }
   ],
   "source": [
    "' '.join(''.join(' '.join(name.split('-')).split('/')).split('\"'))"
   ]
  },
  {
   "cell_type": "code",
   "execution_count": null,
   "metadata": {},
   "outputs": [],
   "source": []
  },
  {
   "cell_type": "code",
   "execution_count": null,
   "metadata": {},
   "outputs": [],
   "source": []
  },
  {
   "cell_type": "code",
   "execution_count": null,
   "metadata": {},
   "outputs": [],
   "source": []
  },
  {
   "cell_type": "code",
   "execution_count": null,
   "metadata": {},
   "outputs": [],
   "source": []
  },
  {
   "cell_type": "code",
   "execution_count": null,
   "metadata": {},
   "outputs": [],
   "source": [
    "leanStr = dirtyStr.replace(\"-is-from\", \"\")\n",
    "    print(\"Old String : \"+dirtyStr)\n",
    "    cleanStr = cleanStr.replace(\"-\",\" \")\n",
    "    print(\"1st Clean : \"+cleanStr)\n",
    "    cleanStr = cleanStr.replace(\"/\", \" \")\n",
    "    print(\"2nd Clean : \" + cleanStr)\n",
    "    cleanStr = cleanStr.replace(\"\\\"\",\" \")\n",
    "    print(\"Clean String : \"+cleanStr)\n",
    "    res = cleanStr.rindex(\" \");\n",
    "    cleanStr = cleanStr[0:res]+\".\"\n",
    "    print(\"clean Str \"+cleanStr)"
   ]
  }
 ],
 "metadata": {
  "kernelspec": {
   "display_name": "Python 3",
   "language": "python",
   "name": "python3"
  },
  "language_info": {
   "codemirror_mode": {
    "name": "ipython",
    "version": 3
   },
   "file_extension": ".py",
   "mimetype": "text/x-python",
   "name": "python",
   "nbconvert_exporter": "python",
   "pygments_lexer": "ipython3",
   "version": "3.8.5"
  }
 },
 "nbformat": 4,
 "nbformat_minor": 5
}
